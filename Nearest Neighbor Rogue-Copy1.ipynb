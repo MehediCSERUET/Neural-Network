{
 "cells": [
  {
   "cell_type": "code",
   "execution_count": 1,
   "metadata": {
    "collapsed": true
   },
   "outputs": [],
   "source": [
    "import numpy as np\n",
    "import matplotlib.pyplot as plt\n",
    "import csv"
   ]
  },
  {
   "cell_type": "code",
   "execution_count": 2,
   "metadata": {
    "collapsed": true
   },
   "outputs": [],
   "source": [
    "def loadDataSet(path):\n",
    "    data = np.loadtxt(path, delimiter=',',skiprows=1) \n",
    "    sorted_data = sorted(data[:], key = lambda x: x[2])\n",
    "    class1 = []\n",
    "    class2 = []\n",
    "    for i in range(len(sorted_data)):\n",
    "        if(sorted_data[i][2] == 0):\n",
    "            class1.append([sorted_data[i][0], sorted_data[i][1]])\n",
    "        else:\n",
    "            class2.append([sorted_data[i][0], sorted_data[i][1]])\n",
    "    return (np.array(class1), np.array(class2))"
   ]
  },
  {
   "cell_type": "code",
   "execution_count": 3,
   "metadata": {
    "collapsed": true
   },
   "outputs": [],
   "source": [
    "def euclid_distance(x, y):\n",
    "    return np.sqrt(np.sum((x-y)**2))"
   ]
  },
  {
   "cell_type": "code",
   "execution_count": 4,
   "metadata": {
    "collapsed": true
   },
   "outputs": [],
   "source": [
    "def NearestNeighbor(weight, height):\n",
    "    global class1\n",
    "    global class2\n",
    "    len1 = len(class1)\n",
    "    len2 = len(class2)\n",
    "    \n",
    "    distance_from_class1 = 0\n",
    "    for i in range(len1):\n",
    "        distance_from_class1 += euclid_distance(class1[i], np.array((weight, height)))\n",
    "    \n",
    "    distance_from_class2 = 0\n",
    "    for i in range(len2):\n",
    "        distance_from_class2 += euclid_distance(class2[i], np.array((weight, height)))\n",
    "    \n",
    "    if(distance_from_class1/len1 < distance_from_class2/len2):\n",
    "        class1 = np.vstack((class1, np.array((weight, height))))\n",
    "        fig = plt.figure()\n",
    "        plt.plot(class1[:, 0], class1[:, 1], 'x')\n",
    "        plt.plot(class2[:, 0], class2[:, 1], '*')\n",
    "        plt.show()\n",
    "        return 1\n",
    "    else:\n",
    "        class2 = np.vstack((class2, np.array((weight, height))))\n",
    "        fig = plt.figure()\n",
    "        plt.plot(class1[:, 0], class1[:, 1], 'x')\n",
    "        plt.plot(class2[:, 0], class2[:, 1], '*')\n",
    "        plt.show()\n",
    "        return 2"
   ]
  },
  {
   "cell_type": "code",
   "execution_count": null,
   "metadata": {},
   "outputs": [
    {
     "name": "stdout",
     "output_type": "stream",
     "text": [
      "Do you want to proceed? Press y/ny\n",
      "Enter Weight:100\n",
      "Enter Height:6.2\n"
     ]
    },
    {
     "data": {
      "image/png": "[encoded data removed]",
      "text/plain": [
       "<matplotlib.figure.Figure at 0x1a21de95d68>"
      ]
     },
     "metadata": {},
     "output_type": "display_data"
    },
    {
     "data": {
      "image/png": "[encoded data removed]",
      "text/plain": [
       "<matplotlib.figure.Figure at 0x1a21eed23c8>"
      ]
     },
     "metadata": {},
     "output_type": "display_data"
    },
    {
     "name": "stdout",
     "output_type": "stream",
     "text": [
      "Predicted Class is:2\n"
     ]
    }
   ],
   "source": [
    "if __name__==\"__main__\":\n",
    "    while(1):\n",
    "        decision = input('Do you want to proceed? Press y/n')\n",
    "        if (decision == 'n' or decision == 'N'):\n",
    "            break\n",
    "        weight = float(input('Enter Weight:'))\n",
    "        height = float(input('Enter Height:'))\n",
    "        path = 'NNData.csv'\n",
    "        (class1, class2) = loadDataSet(path)\n",
    "        fig = plt.figure()\n",
    "        plt.plot(class1[:, 0], class1[:, 1], 'x')\n",
    "        plt.plot(class2[:, 0], class2[:, 1], '*')\n",
    "        plt.plot(weight, height, '.')\n",
    "        plt.show()\n",
    "        x = NearestNeighbor(weight, height)\n",
    "        print('Predicted Class is:'+str(x))\n",
    "        with open(path, 'a', newline='') as newFile:\n",
    "            newFileWriter = csv.writer(newFile)\n",
    "            newFileWriter.writerow([weight, height, x-1])"
   ]
  },
  {
   "cell_type": "code",
   "execution_count": null,
   "metadata": {
    "collapsed": true
   },
   "outputs": [],
   "source": []
  }
 ],
 "metadata": {
  "kernelspec": {
   "display_name": "Python 3",
   "language": "python",
   "name": "python3"
  },
  "language_info": {
   "codemirror_mode": {
    "name": "ipython",
    "version": 3
   },
   "file_extension": ".py",
   "mimetype": "text/x-python",
   "name": "python",
   "nbconvert_exporter": "python",
   "pygments_lexer": "ipython3",
   "version": "3.6.3"
  }
 },
 "nbformat": 4,
 "nbformat_minor": 2
}
