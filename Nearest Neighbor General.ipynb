{
 "cells": [
  {
   "cell_type": "code",
   "execution_count": 5,
   "metadata": {
    "collapsed": true
   },
   "outputs": [],
   "source": [
    "#import needed packages\n",
    "import numpy as np\n",
    "import matplotlib.pyplot as plt\n",
    "import csv"
   ]
  },
  {
   "cell_type": "code",
   "execution_count": 2,
   "metadata": {
    "collapsed": true
   },
   "outputs": [],
   "source": [
    "def loadDataSet(path):\n",
    "    data = np.loadtxt(path, delimiter=',',skiprows=1)  #load csv file without the header row\n",
    "    sorted_data = sorted(data[:], key = lambda x: x[2]) #sort the data based on 3rd column i.e. class\n",
    "    class1 = []\n",
    "    class2 = []\n",
    "    for i in range(len(sorted_data)):\n",
    "        if(sorted_data[i][2] == 0):\n",
    "            class1.append([sorted_data[i][0], sorted_data[i][1]]) #class 1 contains data with class label 0\n",
    "        else:\n",
    "            class2.append([sorted_data[i][0], sorted_data[i][1]]) #class 2 contains data with class label 1\n",
    "    return (np.array(class1), np.array(class2))"
   ]
  },
  {
   "cell_type": "code",
   "execution_count": 3,
   "metadata": {
    "collapsed": true
   },
   "outputs": [],
   "source": [
    "def euclid_distance(x, y):\n",
    "    return np.sqrt(np.sum((x-y)**2))"
   ]
  },
  {
   "cell_type": "code",
   "execution_count": 4,
   "metadata": {
    "collapsed": true
   },
   "outputs": [],
   "source": [
    "def NearestNeighbor(weight, height):\n",
    "    global class1\n",
    "    global class2\n",
    "    len1 = len(class1)\n",
    "    len2 = len(class2)\n",
    "    \n",
    "    min_distance_from_class1 = 999999\n",
    "    for i in range(len1): #find the minimum euclidean distance data point from given point to every point of class 1\n",
    "        dist1 = euclid_distance(class1[i], np.array((weight, height)))\n",
    "        if(min_distance_from_class1 > dist1):\n",
    "            min_distance_from_class1 = dist1\n",
    "    \n",
    "    min_distance_from_class2 = 999999 \n",
    "    for i in range(len2): #find the minimum euclidean distance data point from given point to every point of class 2\n",
    "        dist2 = euclid_distance(class2[i], np.array((weight, height)))\n",
    "        if(min_distance_from_class2 > dist2):\n",
    "            min_distance_from_class2 = dist2\n",
    "    \n",
    "    if(min_distance_from_class1 < min_distance_from_class2): #if the point is closer to class 1\n",
    "        class1 = np.vstack((class1, np.array((weight, height)))) #append that unknown point to class 1\n",
    "        fig = plt.figure()\n",
    "        plt.plot(class1[:, 0], class1[:, 1], 'x')\n",
    "        plt.plot(class2[:, 0], class2[:, 1], '*')\n",
    "        plt.show()\n",
    "        return 1\n",
    "    else:\n",
    "        class2 = np.vstack((class2, np.array((weight, height)))) #append that unknown point to class 2\n",
    "        fig = plt.figure()\n",
    "        plt.plot(class1[:, 0], class1[:, 1], 'x')\n",
    "        plt.plot(class2[:, 0], class2[:, 1], '*')\n",
    "        plt.show()\n",
    "        return 2"
   ]
  },
  {
   "cell_type": "code",
   "execution_count": 6,
   "metadata": {},
   "outputs": [
    {
     "name": "stdout",
     "output_type": "stream",
     "text": [
      "Do you want to proceed? Press y/ny\n",
      "Enter Weight:100\n",
      "Enter Height:6\n"
     ]
    },
    {
     "data": {
      "image/png": "[encoded data removed]",
      "text/plain": [
       "<matplotlib.figure.Figure at 0x227fdd66f60>"
      ]
     },
     "metadata": {},
     "output_type": "display_data"
    },
    {
     "data": {
      "image/png": "[encoded data removed]",
      "text/plain": [
       "<matplotlib.figure.Figure at 0x22781a96a58>"
      ]
     },
     "metadata": {},
     "output_type": "display_data"
    },
    {
     "name": "stdout",
     "output_type": "stream",
     "text": [
      "Predicted Class is:2\n",
      "Do you want to proceed? Press y/nn\n"
     ]
    }
   ],
   "source": [
    "if __name__==\"__main__\":\n",
    "    while(1):\n",
    "        decision = input('Do you want to proceed? Press y/n')\n",
    "        if (decision == 'n' or decision == 'N'):\n",
    "            break\n",
    "        weight = float(input('Enter Weight:'))\n",
    "        height = float(input('Enter Height:'))\n",
    "        path = 'NNData.csv'\n",
    "        (class1, class2) = loadDataSet(path) #divide the data into two class\n",
    "        fig = plt.figure() #show the classes\n",
    "        plt.plot(class1[:, 0], class1[:, 1], 'x')\n",
    "        plt.plot(class2[:, 0], class2[:, 1], '*')\n",
    "        plt.plot(weight, height, '.')\n",
    "        plt.show()\n",
    "        x = NearestNeighbor(weight, height) #find the class of unknown data\n",
    "        print('Predicted Class is:'+str(x)) \n",
    "        with open(path, 'a', newline='') as newFile: #append the data\n",
    "            newFileWriter = csv.writer(newFile) \n",
    "            newFileWriter.writerow([weight, height, x-1])"
   ]
  },
  {
   "cell_type": "code",
   "execution_count": null,
   "metadata": {
    "collapsed": true
   },
   "outputs": [],
   "source": []
  }
 ],
 "metadata": {
  "kernelspec": {
   "display_name": "Python 3",
   "language": "python",
   "name": "python3"
  },
  "language_info": {
   "codemirror_mode": {
    "name": "ipython",
    "version": 3
   },
   "file_extension": ".py",
   "mimetype": "text/x-python",
   "name": "python",
   "nbconvert_exporter": "python",
   "pygments_lexer": "ipython3",
   "version": "3.6.3"
  }
 },
 "nbformat": 4,
 "nbformat_minor": 2
}
